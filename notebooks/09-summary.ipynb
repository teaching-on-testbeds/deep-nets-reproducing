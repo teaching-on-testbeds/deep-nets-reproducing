{
  "cells": [
    {
      "cell_type": "markdown",
      "metadata": {
        "id": "a4J-d1RVHr0H"
      },
      "source": [
        "## Summary of results\n",
        "\n",
        "To summarize, the test error rate of each model was:\n",
        "\n",
        "* Original 1989 paper: **5.0%**\n",
        "* Pytorch model based on original: **4.14%**\n",
        "* ... + cross entropy loss: **4.58%**\n",
        "* ... + Adam optimizer: **3.89%**\n",
        "* ... + data augmentation: **2.29%**\n",
        "* ... + dropout + ReLU activations: **2.09%**\n",
        "* ... + more training data: **1.45%**\n",
        "\n",
        "and, \n",
        "\n",
        "* Pytorch model based on 1989 original + more training data: about **3%**"
      ]
    }
  ],
  "metadata": {
    "colab": {
      "provenance": []
    },
    "gpuClass": "standard",
    "kernelspec": {
      "display_name": "Python 3",
      "name": "python3"
    },
    "language_info": {
      "name": "python"
    }
  },
  "nbformat": 4,
  "nbformat_minor": 0
}
